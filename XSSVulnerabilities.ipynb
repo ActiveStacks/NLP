{
  "nbformat": 4,
  "nbformat_minor": 0,
  "metadata": {
    "colab": {
      "provenance": [],
      "authorship_tag": "ABX9TyPnwUAHwseagCG9Cx2oU0b2",
      "include_colab_link": true
    },
    "kernelspec": {
      "name": "python3",
      "display_name": "Python 3"
    },
    "language_info": {
      "name": "python"
    }
  },
  "cells": [
    {
      "cell_type": "markdown",
      "metadata": {
        "id": "view-in-github",
        "colab_type": "text"
      },
      "source": [
        "<a href=\"https://colab.research.google.com/github/ActiveStacks/NLP/blob/main/XSSVulnerabilities.ipynb\" target=\"_parent\"><img src=\"https://colab.research.google.com/assets/colab-badge.svg\" alt=\"Open In Colab\"/></a>"
      ]
    },
    {
      "cell_type": "code",
      "execution_count": null,
      "metadata": {
        "id": "AuqQIYgoCkbr",
        "colab": {
          "base_uri": "https://localhost:8080/"
        },
        "outputId": "eb6eb44b-0cde-41db-a5f7-ea7ddd9cdafa"
      },
      "outputs": [
        {
          "output_type": "stream",
          "name": "stdout",
          "text": [
            "Mounted at /content/drive\n"
          ]
        },
        {
          "output_type": "stream",
          "name": "stderr",
          "text": [
            "[nltk_data] Downloading package stopwords to /root/nltk_data...\n",
            "[nltk_data]   Unzipping corpora/stopwords.zip.\n"
          ]
        }
      ],
      "source": [
        "from google.colab import drive\n",
        "drive.mount('/content/drive')\n",
        "\n",
        "import nltk\n",
        "nltk.download('stopwords')\n",
        "import pandas as pd\n",
        "from sklearn.feature_extraction.text import CountVectorizer\n",
        "from sklearn.feature_extraction.text import TfidfVectorizer\n",
        "from sklearn.model_selection import train_test_split\n",
        "from nltk.corpus import stopwords\n",
        "from sklearn.metrics import accuracy_score, f1_score\n",
        "from sklearn.linear_model import LogisticRegression\n",
        "from sklearn.ensemble import RandomForestClassifier\n",
        "from sklearn.svm import SVC\n",
        "from sklearn.naive_bayes import GaussianNB\n",
        "import tensorflow as tf\n",
        "import numpy as np\n",
        "import matplotlib.pyplot as plt\n",
        "import seaborn as sns\n",
        "\n",
        "# from tensorflow.keras import models, layers\n",
        "# import warnings\n",
        "# warnings.filterwarnings('ignore')\n",
        "\n",
        "\n",
        "from sklearn.metrics import confusion_matrix\n",
        "from sklearn.metrics import PrecisionRecallDisplay\n",
        "from sklearn.metrics import classification_report\n",
        "\n",
        "\n"
      ]
    },
    {
      "cell_type": "code",
      "source": [
        "\n",
        "\n",
        "\n",
        "\n",
        "path = ('/content/drive/MyDrive/CVEs.csv')\n",
        "# path = ('/content/drive/MyDrive/XSS_dataset.csv')\n",
        "df = pd.read_csv(path)"
      ],
      "metadata": {
        "id": "SX76L0jBEKi2"
      },
      "execution_count": null,
      "outputs": []
    },
    {
      "cell_type": "code",
      "source": [
        "print(df)"
      ],
      "metadata": {
        "colab": {
          "base_uri": "https://localhost:8080/"
        },
        "id": "QNTSSj25wAnb",
        "outputId": "d0ce1d19-83f7-4bfa-cbc7-6df8cf5c7065"
      },
      "execution_count": null,
      "outputs": [
        {
          "output_type": "stream",
          "name": "stdout",
          "text": [
            "                                                    code language      safety\n",
            "0      package org.bouncycastle.jcajce.provider.asymm...     java  vulnerable\n",
            "1      <?php\\n\\n\\n\\n/**\\n\\n * ownCloud - user_ldap\\n\\...      php  vulnerable\n",
            "2      #!/usr/bin/env python\\n\\nfrom __future__ impor...       py        safe\n",
            "3      /* -*- c-basic-offset: 8 -*-\\n\\n   rdesktop: A...        c        safe\n",
            "4      <!DOCTYPE html>\\n\\n<html>\\n\\n    <head>\\n\\n   ...     html        safe\n",
            "...                                                  ...      ...         ...\n",
            "31189  /*\\n\\n * Copyright 2002-2012 the original auth...     java        safe\n",
            "31190                                     404: Not Found      tpl  vulnerable\n",
            "31191  <?php\\n\\n/* vim: set expandtab sw=4 ts=4 sts=4...    Other        safe\n",
            "31192  /*\\n\\n * Glue code for the SHA1 Secure Hash Al...        c  vulnerable\n",
            "31193  <?php\\n\\n/*\\n\\n +-----------------------------...      php  vulnerable\n",
            "\n",
            "[31194 rows x 3 columns]\n"
          ]
        }
      ]
    },
    {
      "cell_type": "code",
      "source": [
        "X = df['code']\n",
        "y = df['safety']"
      ],
      "metadata": {
        "id": "nta0vp9nEKmk"
      },
      "execution_count": null,
      "outputs": []
    },
    {
      "cell_type": "code",
      "source": [
        "print(df['code'])"
      ],
      "metadata": {
        "colab": {
          "base_uri": "https://localhost:8080/"
        },
        "id": "pNn0HQiz-3F4",
        "outputId": "03387daa-52ec-470f-b50e-d1915fa87125"
      },
      "execution_count": null,
      "outputs": [
        {
          "output_type": "stream",
          "name": "stdout",
          "text": [
            "0        package org.bouncycastle.jcajce.provider.asymm...\n",
            "1        <?php\\n\\n\\n\\n/**\\n\\n * ownCloud - user_ldap\\n\\...\n",
            "2        #!/usr/bin/env python\\n\\nfrom __future__ impor...\n",
            "3        /* -*- c-basic-offset: 8 -*-\\n\\n   rdesktop: A...\n",
            "4        <!DOCTYPE html>\\n\\n<html>\\n\\n    <head>\\n\\n   ...\n",
            "                               ...                        \n",
            "31189    /*\\n\\n * Copyright 2002-2012 the original auth...\n",
            "31190                                       404: Not Found\n",
            "31191    <?php\\n\\n/* vim: set expandtab sw=4 ts=4 sts=4...\n",
            "31192    /*\\n\\n * Glue code for the SHA1 Secure Hash Al...\n",
            "31193    <?php\\n\\n/*\\n\\n +-----------------------------...\n",
            "Name: code, Length: 31194, dtype: object\n"
          ]
        }
      ]
    },
    {
      "cell_type": "code",
      "source": [
        "nltk.download('stopwords')\n"
      ],
      "metadata": {
        "colab": {
          "base_uri": "https://localhost:8080/"
        },
        "id": "t77YN6ScEKqU",
        "outputId": "109aa445-d42f-4e9c-e521-3b18e9e6ee4b"
      },
      "execution_count": null,
      "outputs": [
        {
          "output_type": "stream",
          "name": "stderr",
          "text": [
            "[nltk_data] Downloading package stopwords to /root/nltk_data...\n",
            "[nltk_data]   Package stopwords is already up-to-date!\n"
          ]
        },
        {
          "output_type": "execute_result",
          "data": {
            "text/plain": [
              "True"
            ]
          },
          "metadata": {},
          "execution_count": 6
        }
      ]
    },
    {
      "cell_type": "code",
      "source": [
        "vectorsTf = TfidfVectorizer()\n"
      ],
      "metadata": {
        "id": "znRI00GkEKtj"
      },
      "execution_count": null,
      "outputs": []
    },
    {
      "cell_type": "code",
      "execution_count": null,
      "metadata": {
        "id": "s1b3nwPS48mW"
      },
      "outputs": [],
      "source": [
        "X_vect = vectorsTf.fit_transform((X).values.astype('U'))"
      ]
    },
    {
      "cell_type": "code",
      "source": [
        "X_train, X_test, y_train, y_test = train_test_split(X_vect, y, test_size = 0.2, random_state= 1)"
      ],
      "metadata": {
        "id": "TeopsAnDEKwc"
      },
      "execution_count": null,
      "outputs": []
    },
    {
      "cell_type": "code",
      "source": [
        "print(X_train.shape)\n",
        "print(X_test.shape)\n",
        "print(y_train.shape)\n",
        "print(y_test.shape)"
      ],
      "metadata": {
        "id": "3EEn5_WlEKzV",
        "colab": {
          "base_uri": "https://localhost:8080/"
        },
        "outputId": "af220dc1-7624-4b7c-8cfa-56063e4f498c"
      },
      "execution_count": null,
      "outputs": [
        {
          "output_type": "stream",
          "name": "stdout",
          "text": [
            "(10948, 5640)\n",
            "(2738, 5640)\n",
            "(10948,)\n",
            "(2738,)\n"
          ]
        }
      ]
    },
    {
      "cell_type": "code",
      "source": [
        "print(X_train)\n",
        "print(y_train)\n",
        "print(X_test)\n",
        "print(y_test)"
      ],
      "metadata": {
        "colab": {
          "base_uri": "https://localhost:8080/"
        },
        "id": "vkDTHIWF8NWT",
        "outputId": "cca5d6d9-9d20-4f5c-8383-a68d47addbb3"
      },
      "execution_count": null,
      "outputs": [
        {
          "output_type": "stream",
          "name": "stdout",
          "text": [
            "[[0 0 0 ... 0 0 0]\n",
            " [0 0 0 ... 0 0 0]\n",
            " [0 0 0 ... 0 0 0]\n",
            " ...\n",
            " [0 0 0 ... 0 0 0]\n",
            " [0 0 0 ... 0 0 0]\n",
            " [0 0 0 ... 0 0 0]]\n",
            "9224     1\n",
            "10862    1\n",
            "11146    1\n",
            "4920     1\n",
            "4369     1\n",
            "        ..\n",
            "905      1\n",
            "5192     1\n",
            "12172    1\n",
            "235      1\n",
            "13349    1\n",
            "Name: Label, Length: 10948, dtype: int64\n",
            "[[0 0 0 ... 0 0 0]\n",
            " [0 0 0 ... 0 0 0]\n",
            " [0 0 0 ... 0 0 0]\n",
            " ...\n",
            " [0 0 0 ... 0 0 0]\n",
            " [0 0 0 ... 0 0 0]\n",
            " [0 0 0 ... 0 0 0]]\n",
            "4003     0\n",
            "10444    1\n",
            "12001    0\n",
            "5440     1\n",
            "6034     0\n",
            "        ..\n",
            "5142     1\n",
            "8104     0\n",
            "1123     1\n",
            "3625     1\n",
            "2784     1\n",
            "Name: Label, Length: 2738, dtype: int64\n"
          ]
        }
      ]
    },
    {
      "cell_type": "code",
      "source": [
        "# IMPORT SOME RELEVANT CLASSIFIERS\n",
        "log_res = LogisticRegression()\n",
        "model = log_res.fit(X_train, y_train)\n",
        "y_predict = model.predict(X_test)\n",
        "print(f\"Accuracy of Logistic Regression on test set : {accuracy_score(y_predict, y_test)}\")\n",
        "print(f\"F1 Score of Logistic Regression on test set : {f1_score(y_predict, y_test)}\")\n",
        "\n",
        "\n",
        "\n",
        "print(\"......................RESULTS.................................................\")\n",
        "print(\"PREDICTIONS: \", y_predict)\n",
        "\n",
        "# target_group = { '1', '0'}\n",
        "# print(\" \")\n",
        "# print(\"......................CLASSIFICATION REPORT...................................\")\n",
        "# print(classification_report(y_test, y_predict, target_names = target_group))\n",
        "\n",
        "print(\".....................CLASSIFICATION SCORE.....................................\")\n",
        "scores = model.score(X_test, y_test)\n",
        "print(\"Classification Score: \", scores)\n",
        "\n",
        "print(\".....................CONFUSION MATRIX.........................................\")\n",
        "matrix_confusion = confusion_matrix(y_test, y_predict)\n",
        "sns.heatmap(matrix_confusion, annot = True)\n",
        "print(matrix_confusion)\n",
        "\n",
        "\n",
        "\n",
        "\n",
        "\n",
        "\n",
        "# TP = confusion(1, 1)\n",
        "# TN = confusion(0, 0)\n",
        "# FP = confusion(0, 1)\n",
        "# FN = confusion(1, 0)\n",
        "\n",
        "# recall = TP/float(TP + FN)\n",
        "# precision = TP/float(TP + FP)\n",
        "# print (\"Recall: \", recall)\n",
        "# print(\"Precision: \", precision)\n"
      ],
      "metadata": {
        "id": "YLmdR73UEK1t",
        "colab": {
          "base_uri": "https://localhost:8080/",
          "height": 586
        },
        "outputId": "537c8f1f-c2ed-42cd-f1d7-f7fccce3188e"
      },
      "execution_count": null,
      "outputs": [
        {
          "output_type": "stream",
          "name": "stdout",
          "text": [
            "Accuracy of Logistic Regression on test set : 0.9985390796201608\n",
            "F1 Score of Logistic Regression on test set : 0.9986101459346769\n",
            "......................RESULTS.................................................\n",
            "PREDICTIONS:  [0 1 0 ... 1 1 1]\n",
            ".....................CLASSIFICATION SCORE.....................................\n",
            "Classification Score:  0.9985390796201608\n",
            ".....................CONFUSION MATRIX.........................................\n",
            "[[1297    1]\n",
            " [   3 1437]]\n"
          ]
        },
        {
          "output_type": "display_data",
          "data": {
            "text/plain": [
              "<Figure size 640x480 with 2 Axes>"
            ],
            "image/png": "[encoded data removed]"
          },
          "metadata": {}
        }
      ]
    },
    {
      "cell_type": "code",
      "source": [],
      "metadata": {
        "id": "zfmPx72OEK4M"
      },
      "execution_count": null,
      "outputs": []
    }
  ]
}